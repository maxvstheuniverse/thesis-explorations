{
 "cells": [
  {
   "cell_type": "code",
   "execution_count": 39,
   "metadata": {},
   "outputs": [],
   "source": [
    "import numpy as np\n",
    "\n",
    "from tensorflow import keras\n",
    "from tensorflow.keras.layers import Input, LSTM, RepeatVector, TimeDistributed, Dense\n",
    "from tensorflow.keras.models import Model\n",
    "from os import path, getcwd"
   ]
  },
  {
   "cell_type": "code",
   "execution_count": 40,
   "metadata": {},
   "outputs": [
    {
     "output_type": "stream",
     "name": "stdout",
     "text": "/Users/max/Dropbox/_repositories/thesis-explorations/src/word2vec\n"
    }
   ],
   "source": [
    "print(getcwd())"
   ]
  },
  {
   "cell_type": "code",
   "execution_count": 41,
   "metadata": {},
   "outputs": [],
   "source": [
    "data = np.load(path.join(\"..\", \"..\", \"data\", \"sets\", \"line_language.npy\"))"
   ]
  },
  {
   "cell_type": "code",
   "execution_count": 42,
   "metadata": {},
   "outputs": [
    {
     "output_type": "execute_result",
     "data": {
      "text/plain": "(5000, 16, 16)"
     },
     "metadata": {},
     "execution_count": 42
    }
   ],
   "source": [
    "data.shape"
   ]
  },
  {
   "cell_type": "code",
   "execution_count": 72,
   "metadata": {
    "tags": [
     "outputPrepend",
     "outputPrepend",
     "outputPrepend",
     "outputPrepend",
     "outputPrepend",
     "outputPrepend",
     "outputPrepend",
     "outputPrepend",
     "outputPrepend",
     "outputPrepend",
     "outputPrepend",
     "outputPrepend",
     "outputPrepend",
     "outputPrepend",
     "outputPrepend",
     "outputPrepend",
     "outputPrepend",
     "outputPrepend",
     "outputPrepend",
     "outputPrepend",
     "outputPrepend",
     "outputPrepend",
     "outputPrepend",
     "outputPrepend",
     "outputPrepend",
     "outputPrepend",
     "outputPrepend",
     "outputPrepend",
     "outputPrepend",
     "outputPrepend",
     "outputPrepend",
     "outputPrepend",
     "outputPrepend",
     "outputPrepend",
     "outputPrepend",
     "outputPrepend",
     "outputPrepend",
     "outputPrepend",
     "outputPrepend",
     "outputPrepend",
     "outputPrepend",
     "outputPrepend",
     "outputPrepend",
     "outputPrepend",
     "outputPrepend",
     "outputPrepend",
     "outputPrepend",
     "outputPrepend",
     "outputPrepend",
     "outputPrepend",
     "outputPrepend",
     "outputPrepend",
     "outputPrepend",
     "outputPrepend",
     "outputPrepend",
     "outputPrepend",
     "outputPrepend",
     "outputPrepend",
     "outputPrepend",
     "outputPrepend",
     "outputPrepend",
     "outputPrepend",
     "outputPrepend",
     "outputPrepend",
     "outputPrepend",
     "outputPrepend",
     "outputPrepend",
     "outputPrepend",
     "outputPrepend",
     "outputPrepend",
     "outputPrepend",
     "outputPrepend",
     "outputPrepend",
     "outputPrepend",
     "outputPrepend",
     "outputPrepend",
     "outputPrepend",
     "outputPrepend",
     "outputPrepend",
     "outputPrepend",
     "outputPrepend",
     "outputPrepend",
     "outputPrepend",
     "outputPrepend",
     "outputPrepend",
     "outputPrepend",
     "outputPrepend",
     "outputPrepend",
     "outputPrepend",
     "outputPrepend",
     "outputPrepend",
     "outputPrepend",
     "outputPrepend",
     "outputPrepend",
     "outputPrepend",
     "outputPrepend",
     "outputPrepend",
     "outputPrepend",
     "outputPrepend",
     "outputPrepend",
     "outputPrepend",
     "outputPrepend",
     "outputPrepend",
     "outputPrepend",
     "outputPrepend",
     "outputPrepend",
     "outputPrepend",
     "outputPrepend",
     "outputPrepend",
     "outputPrepend",
     "outputPrepend",
     "outputPrepend",
     "outputPrepend",
     "outputPrepend",
     "outputPrepend",
     "outputPrepend",
     "outputPrepend",
     "outputPrepend",
     "outputPrepend",
     "outputPrepend",
     "outputPrepend",
     "outputPrepend",
     "outputPrepend",
     "outputPrepend",
     "outputPrepend",
     "outputPrepend",
     "outputPrepend",
     "outputPrepend"
    ]
   },
   "outputs": [
    {
     "output_type": "stream",
     "name": "stdout",
     "text": "256 (1, 256, 1)\nModel: \"sequential_16\"\n_________________________________________________________________\nLayer (type)                 Output Shape              Param #   \n=================================================================\nlstm_36 (LSTM)               (None, 512)               1052672   \n_________________________________________________________________\nrepeat_vector_18 (RepeatVect (None, 256, 512)          0         \n_________________________________________________________________\nlstm_37 (LSTM)               (None, 256, 512)          2099200   \n_________________________________________________________________\ntime_distributed_16 (TimeDis (None, 256, 1)            513       \n=================================================================\nTotal params: 3,152,385\nTrainable params: 3,152,385\nNon-trainable params: 0\n_________________________________________________________________\n"
    }
   ],
   "source": [
    "# define input sequence\n",
    "sequence = data[0].flatten() / 255 # np.array([0.1, 0.2, 0.3, 0.4, 0.5, 0.6, 0.7, 0.8, 0.9])\n",
    "# reshape input into [samples, timesteps, features]\n",
    "n_in = len(sequence)\n",
    "sequence = sequence.reshape((1, n_in, 1))\n",
    "print(n_in, sequence.shape)\n",
    "\n",
    "model = keras.Sequential([\n",
    "    LSTM(512, activation='relu', input_shape=(n_in, 1)),\n",
    "    RepeatVector(n_in),\n",
    "    LSTM(512, activation='relu', return_sequences=True),\n",
    "    TimeDistributed(Dense(1))\n",
    "])\n",
    "model.compile(optimizer='adam', loss='mse')\n",
    "model.summary()"
   ]
  },
  {
   "cell_type": "code",
   "execution_count": 73,
   "metadata": {
    "tags": [
     "outputPrepend",
     "outputPrepend",
     "outputPrepend",
     "outputPrepend",
     "outputPrepend",
     "outputPrepend",
     "outputPrepend",
     "outputPrepend",
     "outputPrepend",
     "outputPrepend",
     "outputPrepend",
     "outputPrepend",
     "outputPrepend",
     "outputPrepend",
     "outputPrepend",
     "outputPrepend",
     "outputPrepend",
     "outputPrepend",
     "outputPrepend",
     "outputPrepend",
     "outputPrepend",
     "outputPrepend",
     "outputPrepend",
     "outputPrepend",
     "outputPrepend",
     "outputPrepend",
     "outputPrepend",
     "outputPrepend",
     "outputPrepend",
     "outputPrepend",
     "outputPrepend",
     "outputPrepend",
     "outputPrepend",
     "outputPrepend",
     "outputPrepend",
     "outputPrepend",
     "outputPrepend",
     "outputPrepend",
     "outputPrepend",
     "outputPrepend",
     "outputPrepend",
     "outputPrepend",
     "outputPrepend",
     "outputPrepend",
     "outputPrepend",
     "outputPrepend",
     "outputPrepend",
     "outputPrepend",
     "outputPrepend",
     "outputPrepend",
     "outputPrepend",
     "outputPrepend",
     "outputPrepend",
     "outputPrepend",
     "outputPrepend",
     "outputPrepend",
     "outputPrepend",
     "outputPrepend",
     "outputPrepend",
     "outputPrepend",
     "outputPrepend",
     "outputPrepend",
     "outputPrepend",
     "outputPrepend",
     "outputPrepend",
     "outputPrepend",
     "outputPrepend",
     "outputPrepend",
     "outputPrepend",
     "outputPrepend",
     "outputPrepend",
     "outputPrepend",
     "outputPrepend",
     "outputPrepend",
     "outputPrepend",
     "outputPrepend",
     "outputPrepend",
     "outputPrepend",
     "outputPrepend",
     "outputPrepend",
     "outputPrepend",
     "outputPrepend",
     "outputPrepend",
     "outputPrepend",
     "outputPrepend",
     "outputPrepend",
     "outputPrepend",
     "outputPrepend",
     "outputPrepend",
     "outputPrepend",
     "outputPrepend",
     "outputPrepend",
     "outputPrepend",
     "outputPrepend",
     "outputPrepend",
     "outputPrepend",
     "outputPrepend",
     "outputPrepend",
     "outputPrepend",
     "outputPrepend",
     "outputPrepend",
     "outputPrepend",
     "outputPrepend",
     "outputPrepend",
     "outputPrepend",
     "outputPrepend",
     "outputPrepend",
     "outputPrepend",
     "outputPrepend",
     "outputPrepend",
     "outputPrepend",
     "outputPrepend",
     "outputPrepend",
     "outputPrepend",
     "outputPrepend",
     "outputPrepend",
     "outputPrepend",
     "outputPrepend",
     "outputPrepend",
     "outputPrepend",
     "outputPrepend"
    ]
   },
   "outputs": [
    {
     "output_type": "stream",
     "name": "stdout",
     "text": "==========] - 1s 583ms/sample - loss: 0.0217\nEpoch 63/300\n1/1 [==============================] - 1s 591ms/sample - loss: 0.0217\nEpoch 64/300\n1/1 [==============================] - 1s 584ms/sample - loss: 0.0217\nEpoch 65/300\n1/1 [==============================] - 1s 610ms/sample - loss: 0.0217\nEpoch 66/300\n1/1 [==============================] - 1s 609ms/sample - loss: 0.0217\nEpoch 67/300\n1/1 [==============================] - 1s 589ms/sample - loss: 0.0217\nEpoch 68/300\n1/1 [==============================] - 1s 626ms/sample - loss: 0.0217\nEpoch 69/300\n1/1 [==============================] - 1s 663ms/sample - loss: 0.0217\nEpoch 70/300\n1/1 [==============================] - 1s 666ms/sample - loss: 0.0217\nEpoch 71/300\n1/1 [==============================] - 1s 602ms/sample - loss: 0.0217\nEpoch 72/300\n1/1 [==============================] - 1s 640ms/sample - loss: 0.0217\nEpoch 73/300\n1/1 [==============================] - 1s 600ms/sample - loss: 0.0217\nEpoch 74/300\n1/1 [==============================] - 1s 591ms/sample - loss: 0.0217\nEpoch 75/300\n1/1 [==============================] - 1s 554ms/sample - loss: 0.0216\nEpoch 76/300\n1/1 [==============================] - 1s 606ms/sample - loss: 0.0216\nEpoch 77/300\n1/1 [==============================] - 1s 792ms/sample - loss: 0.0216\nEpoch 78/300\n1/1 [==============================] - 1s 711ms/sample - loss: 0.0217\nEpoch 79/300\n1/1 [==============================] - 1s 647ms/sample - loss: 0.0221\nEpoch 80/300\n1/1 [==============================] - 1s 593ms/sample - loss: 0.0216\nEpoch 81/300\n1/1 [==============================] - 1s 592ms/sample - loss: 0.0222\nEpoch 82/300\n1/1 [==============================] - 1s 593ms/sample - loss: 0.0216\nEpoch 83/300\n1/1 [==============================] - 1s 608ms/sample - loss: 0.0220\nEpoch 84/300\n1/1 [==============================] - 1s 601ms/sample - loss: 0.0220\nEpoch 85/300\n1/1 [==============================] - 1s 629ms/sample - loss: 0.0218\nEpoch 86/300\n1/1 [==============================] - 1s 648ms/sample - loss: 0.0217\nEpoch 87/300\n1/1 [==============================] - 1s 618ms/sample - loss: 0.0217\nEpoch 88/300\n1/1 [==============================] - 1s 647ms/sample - loss: 0.0217\nEpoch 89/300\n1/1 [==============================] - 1s 627ms/sample - loss: 0.0218\nEpoch 90/300\n1/1 [==============================] - 1s 651ms/sample - loss: 0.0217\nEpoch 91/300\n1/1 [==============================] - 1s 668ms/sample - loss: 0.0217\nEpoch 92/300\n1/1 [==============================] - 1s 599ms/sample - loss: 0.0217\nEpoch 93/300\n1/1 [==============================] - 1s 612ms/sample - loss: 0.0217\nEpoch 94/300\n1/1 [==============================] - 1s 598ms/sample - loss: 0.0217\nEpoch 95/300\n1/1 [==============================] - 1s 619ms/sample - loss: 0.0217\nEpoch 96/300\n1/1 [==============================] - 1s 644ms/sample - loss: 0.0217\nEpoch 97/300\n1/1 [==============================] - 1s 635ms/sample - loss: 0.0217\nEpoch 98/300\n1/1 [==============================] - 1s 555ms/sample - loss: 0.0217\nEpoch 99/300\n1/1 [==============================] - 1s 616ms/sample - loss: 0.0217\nEpoch 100/300\n1/1 [==============================] - 1s 609ms/sample - loss: 0.0217\nEpoch 101/300\n1/1 [==============================] - 1s 624ms/sample - loss: 0.0217\nEpoch 102/300\n1/1 [==============================] - 1s 634ms/sample - loss: 0.0217\nEpoch 103/300\n1/1 [==============================] - 1s 611ms/sample - loss: 0.0217\nEpoch 104/300\n1/1 [==============================] - 1s 632ms/sample - loss: 0.0216\nEpoch 105/300\n1/1 [==============================] - 1s 606ms/sample - loss: 0.0216\nEpoch 106/300\n1/1 [==============================] - 1s 605ms/sample - loss: 0.0216\nEpoch 107/300\n1/1 [==============================] - 1s 630ms/sample - loss: 0.0216\nEpoch 108/300\n1/1 [==============================] - 1s 622ms/sample - loss: 0.0216\nEpoch 109/300\n1/1 [==============================] - 1s 630ms/sample - loss: 0.0216\nEpoch 110/300\n1/1 [==============================] - 1s 605ms/sample - loss: 0.0215\nEpoch 111/300\n1/1 [==============================] - 1s 604ms/sample - loss: 0.0215\nEpoch 112/300\n1/1 [==============================] - 1s 640ms/sample - loss: 0.0214\nEpoch 113/300\n1/1 [==============================] - 1s 620ms/sample - loss: 0.0211\nEpoch 114/300\n1/1 [==============================] - 1s 622ms/sample - loss: 0.0209\nEpoch 115/300\n1/1 [==============================] - 1s 638ms/sample - loss: 0.0896\nEpoch 116/300\n1/1 [==============================] - 1s 639ms/sample - loss: 0.0234\nEpoch 117/300\n1/1 [==============================] - 1s 598ms/sample - loss: 0.0231\nEpoch 118/300\n1/1 [==============================] - 1s 586ms/sample - loss: 0.0227\nEpoch 119/300\n1/1 [==============================] - 1s 595ms/sample - loss: 0.0223\nEpoch 120/300\n1/1 [==============================] - 1s 669ms/sample - loss: 0.0220\nEpoch 121/300\n1/1 [==============================] - 1s 649ms/sample - loss: 0.0218\nEpoch 122/300\n1/1 [==============================] - 1s 656ms/sample - loss: 0.0217\nEpoch 123/300\n1/1 [==============================] - 1s 652ms/sample - loss: 0.0219\nEpoch 124/300\n1/1 [==============================] - 1s 643ms/sample - loss: 0.0220\nEpoch 125/300\n1/1 [==============================] - 1s 609ms/sample - loss: 0.0220\nEpoch 126/300\n1/1 [==============================] - 1s 613ms/sample - loss: 0.0219\nEpoch 127/300\n1/1 [==============================] - 1s 603ms/sample - loss: 0.0217\nEpoch 128/300\n1/1 [==============================] - 1s 596ms/sample - loss: 0.0217\nEpoch 129/300\n1/1 [==============================] - 1s 637ms/sample - loss: 0.0218\nEpoch 130/300\n1/1 [==============================] - 1s 631ms/sample - loss: 0.0218\nEpoch 131/300\n1/1 [==============================] - 1s 590ms/sample - loss: 0.0218\nEpoch 132/300\n1/1 [==============================] - 1s 604ms/sample - loss: 0.0218\nEpoch 133/300\n1/1 [==============================] - 1s 613ms/sample - loss: 0.0217\nEpoch 134/300\n1/1 [==============================] - 1s 619ms/sample - loss: 0.0217\nEpoch 135/300\n1/1 [==============================] - 1s 604ms/sample - loss: 0.0217\nEpoch 136/300\n1/1 [==============================] - 1s 588ms/sample - loss: 0.0217\nEpoch 137/300\n1/1 [==============================] - 1s 617ms/sample - loss: 0.0217\nEpoch 138/300\n1/1 [==============================] - 1s 617ms/sample - loss: 0.0217\nEpoch 139/300\n1/1 [==============================] - 1s 642ms/sample - loss: 0.0217\nEpoch 140/300\n1/1 [==============================] - 1s 657ms/sample - loss: 0.0217\nEpoch 141/300\n1/1 [==============================] - 1s 622ms/sample - loss: 0.0217\nEpoch 142/300\n1/1 [==============================] - 1s 648ms/sample - loss: 0.0217\nEpoch 143/300\n1/1 [==============================] - 1s 625ms/sample - loss: 0.0217\nEpoch 144/300\n1/1 [==============================] - 1s 628ms/sample - loss: 0.0217\nEpoch 145/300\n1/1 [==============================] - 1s 661ms/sample - loss: 0.0217\nEpoch 146/300\n1/1 [==============================] - 1s 632ms/sample - loss: 0.0217\nEpoch 147/300\n1/1 [==============================] - 1s 589ms/sample - loss: 0.0217\nEpoch 148/300\n1/1 [==============================] - 1s 595ms/sample - loss: 0.0217\nEpoch 149/300\n1/1 [==============================] - 1s 621ms/sample - loss: 0.0217\nEpoch 150/300\n1/1 [==============================] - 1s 630ms/sample - loss: 0.0217\nEpoch 151/300\n1/1 [==============================] - 1s 625ms/sample - loss: 0.0217\nEpoch 152/300\n1/1 [==============================] - 1s 614ms/sample - loss: 0.0217\nEpoch 153/300\n1/1 [==============================] - 1s 617ms/sample - loss: 0.0217\nEpoch 154/300\n1/1 [==============================] - 1s 614ms/sample - loss: 0.0217\nEpoch 155/300\n1/1 [==============================] - 1s 647ms/sample - loss: 0.0217\nEpoch 156/300\n1/1 [==============================] - 1s 644ms/sample - loss: 0.0217\nEpoch 157/300\n1/1 [==============================] - 1s 585ms/sample - loss: 0.0217\nEpoch 158/300\n1/1 [==============================] - 1s 629ms/sample - loss: 0.0217\nEpoch 159/300\n1/1 [==============================] - 1s 613ms/sample - loss: 0.0217\nEpoch 160/300\n1/1 [==============================] - 1s 654ms/sample - loss: 0.0217\nEpoch 161/300\n1/1 [==============================] - 1s 612ms/sample - loss: 0.0217\nEpoch 162/300\n1/1 [==============================] - 1s 642ms/sample - loss: 0.0217\nEpoch 163/300\n1/1 [==============================] - 1s 620ms/sample - loss: 0.0217\nEpoch 164/300\n1/1 [==============================] - 1s 626ms/sample - loss: 0.0217\nEpoch 165/300\n1/1 [==============================] - 1s 611ms/sample - loss: 0.0217\nEpoch 166/300\n1/1 [==============================] - 1s 657ms/sample - loss: 0.0217\nEpoch 167/300\n1/1 [==============================] - 1s 614ms/sample - loss: 0.0217\nEpoch 168/300\n1/1 [==============================] - 1s 584ms/sample - loss: 0.0217\nEpoch 169/300\n1/1 [==============================] - 1s 633ms/sample - loss: 0.0217\nEpoch 170/300\n1/1 [==============================] - 1s 620ms/sample - loss: 0.0217\nEpoch 171/300\n1/1 [==============================] - 1s 579ms/sample - loss: 0.0217\nEpoch 172/300\n1/1 [==============================] - 1s 607ms/sample - loss: 0.0217\nEpoch 173/300\n1/1 [==============================] - 1s 561ms/sample - loss: 0.0217\nEpoch 174/300\n1/1 [==============================] - 1s 603ms/sample - loss: 0.0217\nEpoch 175/300\n1/1 [==============================] - 1s 684ms/sample - loss: 0.0217\nEpoch 176/300\n1/1 [==============================] - 1s 637ms/sample - loss: 0.0217\nEpoch 177/300\n1/1 [==============================] - 1s 631ms/sample - loss: 0.0217\nEpoch 178/300\n1/1 [==============================] - 1s 617ms/sample - loss: 0.0217\nEpoch 179/300\n1/1 [==============================] - 1s 620ms/sample - loss: 0.0217\nEpoch 180/300\n1/1 [==============================] - 1s 612ms/sample - loss: 0.0217\nEpoch 181/300\n1/1 [==============================] - 1s 612ms/sample - loss: 0.0217\nEpoch 182/300\n1/1 [==============================] - 1s 664ms/sample - loss: 0.0217\nEpoch 183/300\n1/1 [==============================] - 1s 636ms/sample - loss: 0.0217\nEpoch 184/300\n1/1 [==============================] - 1s 660ms/sample - loss: 0.0217\nEpoch 185/300\n1/1 [==============================] - 1s 614ms/sample - loss: 0.0217\nEpoch 186/300\n1/1 [==============================] - 1s 620ms/sample - loss: 0.0217\nEpoch 187/300\n1/1 [==============================] - 1s 576ms/sample - loss: 0.0217\nEpoch 188/300\n1/1 [==============================] - 1s 632ms/sample - loss: 0.0217\nEpoch 189/300\n1/1 [==============================] - 1s 628ms/sample - loss: 0.0217\nEpoch 190/300\n1/1 [==============================] - 1s 670ms/sample - loss: 0.0216\nEpoch 191/300\n1/1 [==============================] - 1s 595ms/sample - loss: 0.0216\nEpoch 192/300\n1/1 [==============================] - 1s 638ms/sample - loss: 0.0216\nEpoch 193/300\n1/1 [==============================] - 1s 604ms/sample - loss: 0.0216\nEpoch 194/300\n1/1 [==============================] - 1s 605ms/sample - loss: 0.0216\nEpoch 195/300\n1/1 [==============================] - 1s 605ms/sample - loss: 0.0216\nEpoch 196/300\n1/1 [==============================] - 1s 627ms/sample - loss: 0.0216\nEpoch 197/300\n1/1 [==============================] - 1s 614ms/sample - loss: 0.0215\nEpoch 198/300\n1/1 [==============================] - 1s 606ms/sample - loss: 0.0215\nEpoch 199/300\n1/1 [==============================] - 1s 620ms/sample - loss: 0.0216\nEpoch 200/300\n1/1 [==============================] - 1s 627ms/sample - loss: 0.0227\nEpoch 201/300\n1/1 [==============================] - 1s 596ms/sample - loss: 0.0229\nEpoch 202/300\n1/1 [==============================] - 1s 627ms/sample - loss: 0.0225\nEpoch 203/300\n1/1 [==============================] - 1s 619ms/sample - loss: 0.0221\nEpoch 204/300\n1/1 [==============================] - 1s 645ms/sample - loss: 0.0218\nEpoch 205/300\n1/1 [==============================] - 1s 635ms/sample - loss: 0.0217\nEpoch 206/300\n1/1 [==============================] - 1s 642ms/sample - loss: 0.0217\nEpoch 207/300\n1/1 [==============================] - 1s 612ms/sample - loss: 0.0217\nEpoch 208/300\n1/1 [==============================] - 1s 626ms/sample - loss: 0.0218\nEpoch 209/300\n1/1 [==============================] - 1s 650ms/sample - loss: 0.0218\nEpoch 210/300\n1/1 [==============================] - 1s 647ms/sample - loss: 0.0218\nEpoch 211/300\n1/1 [==============================] - 1s 600ms/sample - loss: 0.0218\nEpoch 212/300\n1/1 [==============================] - 1s 577ms/sample - loss: 0.0218\nEpoch 213/300\n1/1 [==============================] - 1s 607ms/sample - loss: 0.0217\nEpoch 214/300\n1/1 [==============================] - 1s 651ms/sample - loss: 0.0217\nEpoch 215/300\n1/1 [==============================] - 1s 596ms/sample - loss: 0.0217\nEpoch 216/300\n1/1 [==============================] - 1s 600ms/sample - loss: 0.0217\nEpoch 217/300\n1/1 [==============================] - 1s 637ms/sample - loss: 0.0217\nEpoch 218/300\n1/1 [==============================] - 1s 629ms/sample - loss: 0.0217\nEpoch 219/300\n1/1 [==============================] - 1s 618ms/sample - loss: 0.0217\nEpoch 220/300\n1/1 [==============================] - 1s 658ms/sample - loss: 0.0217\nEpoch 221/300\n1/1 [==============================] - 1s 606ms/sample - loss: 0.0217\nEpoch 222/300\n1/1 [==============================] - 1s 615ms/sample - loss: 0.0217\nEpoch 223/300\n1/1 [==============================] - 1s 664ms/sample - loss: 0.0217\nEpoch 224/300\n1/1 [==============================] - 1s 587ms/sample - loss: 0.0217\nEpoch 225/300\n1/1 [==============================] - 1s 624ms/sample - loss: 0.0217\nEpoch 226/300\n1/1 [==============================] - 1s 594ms/sample - loss: 0.0217\nEpoch 227/300\n1/1 [==============================] - 1s 619ms/sample - loss: 0.0217\nEpoch 228/300\n1/1 [==============================] - 1s 655ms/sample - loss: 0.0217\nEpoch 229/300\n1/1 [==============================] - 1s 583ms/sample - loss: 0.0217\nEpoch 230/300\n1/1 [==============================] - 1s 620ms/sample - loss: 0.0217\nEpoch 231/300\n1/1 [==============================] - 1s 645ms/sample - loss: 0.0217\nEpoch 232/300\n1/1 [==============================] - 1s 618ms/sample - loss: 0.0217\nEpoch 233/300\n1/1 [==============================] - 1s 645ms/sample - loss: 0.0217\nEpoch 234/300\n1/1 [==============================] - 1s 616ms/sample - loss: 0.0217\nEpoch 235/300\n1/1 [==============================] - 1s 583ms/sample - loss: 0.0217\nEpoch 236/300\n1/1 [==============================] - 1s 655ms/sample - loss: 0.0217\nEpoch 237/300\n1/1 [==============================] - 1s 618ms/sample - loss: 0.0217\nEpoch 238/300\n1/1 [==============================] - 1s 645ms/sample - loss: 0.0217\nEpoch 239/300\n1/1 [==============================] - 1s 674ms/sample - loss: 0.0217\nEpoch 240/300\n1/1 [==============================] - 1s 574ms/sample - loss: 0.0217\nEpoch 241/300\n1/1 [==============================] - 1s 620ms/sample - loss: 0.0217\nEpoch 242/300\n1/1 [==============================] - 1s 592ms/sample - loss: 0.0217\nEpoch 243/300\n1/1 [==============================] - 1s 586ms/sample - loss: 0.0217\nEpoch 244/300\n1/1 [==============================] - 1s 589ms/sample - loss: 0.0217\nEpoch 245/300\n1/1 [==============================] - 1s 605ms/sample - loss: 0.0217\nEpoch 246/300\n1/1 [==============================] - 1s 605ms/sample - loss: 0.0217\nEpoch 247/300\n1/1 [==============================] - 1s 613ms/sample - loss: 0.0217\nEpoch 248/300\n1/1 [==============================] - 1s 617ms/sample - loss: 0.0217\nEpoch 249/300\n1/1 [==============================] - 1s 598ms/sample - loss: 0.0217\nEpoch 250/300\n1/1 [==============================] - 1s 630ms/sample - loss: 0.0217\nEpoch 251/300\n1/1 [==============================] - 1s 663ms/sample - loss: 0.0217\nEpoch 252/300\n1/1 [==============================] - 1s 652ms/sample - loss: 0.0217\nEpoch 253/300\n1/1 [==============================] - 1s 627ms/sample - loss: 0.0217\nEpoch 254/300\n1/1 [==============================] - 1s 673ms/sample - loss: 0.0217\nEpoch 255/300\n1/1 [==============================] - 1s 584ms/sample - loss: 0.0217\nEpoch 256/300\n1/1 [==============================] - 1s 614ms/sample - loss: 0.0217\nEpoch 257/300\n1/1 [==============================] - 1s 620ms/sample - loss: 0.0217\nEpoch 258/300\n1/1 [==============================] - 1s 639ms/sample - loss: 0.0217\nEpoch 259/300\n1/1 [==============================] - 1s 588ms/sample - loss: 0.0217\nEpoch 260/300\n1/1 [==============================] - 1s 638ms/sample - loss: 0.0217\nEpoch 261/300\n1/1 [==============================] - 1s 612ms/sample - loss: 0.0217\nEpoch 262/300\n1/1 [==============================] - 1s 585ms/sample - loss: 0.0217\nEpoch 263/300\n1/1 [==============================] - 1s 617ms/sample - loss: 0.0217\nEpoch 264/300\n1/1 [==============================] - 1s 641ms/sample - loss: 0.0217\nEpoch 265/300\n1/1 [==============================] - 1s 606ms/sample - loss: 0.0217\nEpoch 266/300\n1/1 [==============================] - 1s 648ms/sample - loss: 0.0217\nEpoch 267/300\n1/1 [==============================] - 1s 614ms/sample - loss: 0.0217\nEpoch 268/300\n1/1 [==============================] - 1s 662ms/sample - loss: 0.0217\nEpoch 269/300\n1/1 [==============================] - 1s 590ms/sample - loss: 0.0217\nEpoch 270/300\n1/1 [==============================] - 1s 626ms/sample - loss: 0.0217\nEpoch 271/300\n1/1 [==============================] - 1s 579ms/sample - loss: 0.0217\nEpoch 272/300\n1/1 [==============================] - 1s 620ms/sample - loss: 0.0217\nEpoch 273/300\n1/1 [==============================] - 1s 612ms/sample - loss: 0.0217\nEpoch 274/300\n1/1 [==============================] - 1s 599ms/sample - loss: 0.0217\nEpoch 275/300\n1/1 [==============================] - 1s 586ms/sample - loss: 0.0217\nEpoch 276/300\n1/1 [==============================] - 1s 616ms/sample - loss: 0.0217\nEpoch 277/300\n1/1 [==============================] - 1s 610ms/sample - loss: 0.0217\nEpoch 278/300\n1/1 [==============================] - 1s 588ms/sample - loss: 0.0217\nEpoch 279/300\n1/1 [==============================] - 1s 656ms/sample - loss: 0.0217\nEpoch 280/300\n1/1 [==============================] - 1s 624ms/sample - loss: 0.0217\nEpoch 281/300\n1/1 [==============================] - 1s 604ms/sample - loss: 0.0217\nEpoch 282/300\n1/1 [==============================] - 1s 626ms/sample - loss: 0.0217\nEpoch 283/300\n1/1 [==============================] - 1s 625ms/sample - loss: 0.0217\nEpoch 284/300\n1/1 [==============================] - 1s 575ms/sample - loss: 0.0217\nEpoch 285/300\n1/1 [==============================] - 1s 610ms/sample - loss: 0.0217\nEpoch 286/300\n1/1 [==============================] - 1s 654ms/sample - loss: 0.0217\nEpoch 287/300\n1/1 [==============================] - 1s 611ms/sample - loss: 0.0217\nEpoch 288/300\n1/1 [==============================] - 1s 646ms/sample - loss: 0.0217\nEpoch 289/300\n1/1 [==============================] - 1s 598ms/sample - loss: 0.0217\nEpoch 290/300\n1/1 [==============================] - 1s 607ms/sample - loss: 0.0217\nEpoch 291/300\n1/1 [==============================] - 1s 649ms/sample - loss: 0.0217\nEpoch 292/300\n1/1 [==============================] - 1s 605ms/sample - loss: 0.0216\nEpoch 293/300\n1/1 [==============================] - 1s 623ms/sample - loss: 0.0216\nEpoch 294/300\n1/1 [==============================] - 1s 622ms/sample - loss: 0.0216\nEpoch 295/300\n1/1 [==============================] - 1s 608ms/sample - loss: 0.0216\nEpoch 296/300\n1/1 [==============================] - 1s 607ms/sample - loss: 0.0216\nEpoch 297/300\n1/1 [==============================] - 1s 648ms/sample - loss: 0.0216\nEpoch 298/300\n1/1 [==============================] - 1s 619ms/sample - loss: 0.0216\nEpoch 299/300\n1/1 [==============================] - 1s 622ms/sample - loss: 0.0215\nEpoch 300/300\n1/1 [==============================] - 1s 679ms/sample - loss: 0.0215\n"
    },
    {
     "output_type": "execute_result",
     "data": {
      "text/plain": "<tensorflow.python.keras.callbacks.History at 0x1494a9350>"
     },
     "metadata": {},
     "execution_count": 73
    }
   ],
   "source": [
    "model.fit(sequence, sequence, epochs=300)"
   ]
  },
  {
   "cell_type": "code",
   "execution_count": 74,
   "metadata": {},
   "outputs": [
    {
     "output_type": "stream",
     "name": "stdout",
     "text": "[-0.00184503 -0.00164764 -0.00159685 -0.00165006 -0.00172375 -0.00177272\n -0.00176999 -0.00168482 -0.00149781 -0.00120877 -0.00082395 -0.0003591\n  0.00017114  0.00075944  0.00139795  0.00207857  0.00279357  0.00353587\n  0.00429915  0.00507793  0.0058675   0.00666394  0.00746396  0.00826501\n  0.00906483  0.00986158  0.01065381  0.01144037  0.01222036  0.01299295\n  0.01375703  0.01451161  0.0152561   0.01599013  0.01671353  0.01742621\n  0.01812822  0.01881963  0.01950056  0.02017114  0.02083156  0.02148196\n  0.02212252  0.02275342  0.02337485  0.02398696  0.02458994  0.02518364\n  0.02576591  0.02633715  0.02689774  0.02744802  0.02798832  0.02851892\n  0.02904012  0.02955217  0.03005533  0.03054982  0.03103586  0.03151367\n  0.03198344  0.03244539  0.03290218  0.03335324  0.03379751  0.03423384\n  0.03466089  0.03507793  0.0354846   0.03588077  0.03626646  0.03664038\n  0.0369999   0.03734349  0.03767071  0.03798167  0.03827688  0.03855703\n  0.03882292  0.03907545  0.0393133   0.03953627  0.03974317  0.03993453\n  0.04011147  0.04027509  0.04042647  0.04056667  0.04069659  0.04081713\n  0.04092906  0.04103309  0.04112985  0.04121992  0.04130381  0.04138199\n  0.04145489  0.04152289  0.04158635  0.04164559  0.04170089  0.04175254\n  0.04180079  0.04184586  0.04188797  0.04192732  0.04196409  0.04199846\n  0.04203058  0.0420606   0.04208866  0.04211489  0.04213941  0.04216233\n  0.04218376  0.0422038   0.04222252  0.04224003  0.04225639  0.04227169\n  0.04228599  0.04229937  0.04231188  0.04232356  0.04233449  0.0423447\n  0.04235426  0.04236319  0.04237152  0.04237932  0.04238658  0.04239338\n  0.04239973  0.04240567  0.04241121  0.04241639  0.04242124  0.04242576\n  0.04243     0.04243395  0.04243765  0.0424411   0.04244433  0.04244736\n  0.04245019  0.04245283  0.0424553   0.04245761  0.04245977  0.04246179\n  0.04246368  0.04246545  0.0424671   0.04246865  0.04247009  0.04247144\n  0.04247271  0.04247389  0.04247499  0.04247603  0.04247699  0.04247789\n  0.04247874  0.04247953  0.04248027  0.04248096  0.04248161  0.04248221\n  0.04248278  0.04248331  0.0424838   0.04248426  0.0424847   0.0424851\n  0.04248548  0.04248584  0.04248617  0.04248647  0.04248677  0.04248704\n  0.04248729  0.04248753  0.04248775  0.04248796  0.04248815  0.04248833\n  0.0424885   0.04248866  0.04248881  0.04248894  0.04248908  0.0424892\n  0.04248931  0.04248941  0.04248951  0.04248961  0.04248969  0.04248977\n  0.04248985  0.04248992  0.04248999  0.04249005  0.04249011  0.04249016\n  0.04249021  0.04249026  0.0424903   0.04249035  0.04249039  0.04249042\n  0.04249046  0.04249049  0.04249052  0.04249055  0.04249057  0.04249059\n  0.04249062  0.04249064  0.04249066  0.04249068  0.04249069  0.04249071\n  0.04249072  0.04249073  0.04249074  0.04249075  0.04249077  0.04249078\n  0.04249079  0.0424908   0.04249081  0.04249082  0.04249083  0.04249084\n  0.04249085  0.04249085  0.04249086  0.04249086  0.04249087  0.04249087\n  0.04249088  0.04249089  0.04249089  0.04249089  0.0424909   0.0424909\n  0.0424909   0.0424909   0.0424909   0.0424909   0.0424909   0.04249091\n  0.04249091  0.04249091  0.04249091  0.04249091]\n"
    }
   ],
   "source": [
    "yhat = model.predict(sequence, verbose=0)\n",
    "print(yhat[0,:,0])"
   ]
  },
  {
   "cell_type": "code",
   "execution_count": 59,
   "metadata": {},
   "outputs": [],
   "source": [
    "import matplotlib.pyplot as plt"
   ]
  },
  {
   "cell_type": "code",
   "execution_count": 78,
   "metadata": {},
   "outputs": [
    {
     "output_type": "execute_result",
     "data": {
      "text/plain": "<matplotlib.image.AxesImage at 0x152384b90>"
     },
     "metadata": {},
     "execution_count": 78
    },
    {
     "output_type": "display_data",
     "data": {
      "text/plain": "<Figure size 432x288 with 1 Axes>",
      "image/svg+xml": "<?xml version=\"1.0\" encoding=\"utf-8\" standalone=\"no\"?>\n<!DOCTYPE svg PUBLIC \"-//W3C//DTD SVG 1.1//EN\"\n  \"http://www.w3.org/Graphics/SVG/1.1/DTD/svg11.dtd\">\n<!-- Created with matplotlib (https://matplotlib.org/) -->\n<svg height=\"248.518125pt\" version=\"1.1\" viewBox=\"0 0 255.902812 248.518125\" width=\"255.902812pt\" xmlns=\"http://www.w3.org/2000/svg\" xmlns:xlink=\"http://www.w3.org/1999/xlink\">\n <defs>\n  <style type=\"text/css\">\n*{stroke-linecap:butt;stroke-linejoin:round;}\n  </style>\n </defs>\n <g id=\"figure_1\">\n  <g id=\"patch_1\">\n   <path d=\"M 0 248.518125 \nL 255.902812 248.518125 \nL 255.902812 0 \nL 0 0 \nz\n\" style=\"fill:none;\"/>\n  </g>\n  <g id=\"axes_1\">\n   <g id=\"patch_2\">\n    <path d=\"M 26.925 224.64 \nL 244.365 224.64 \nL 244.365 7.2 \nL 26.925 7.2 \nz\n\" style=\"fill:#ffffff;\"/>\n   </g>\n   <g clip-path=\"url(#pc5a16e3543)\">\n    <image height=\"218\" id=\"imageaf9a71cf7c\" transform=\"scale(1 -1)translate(0 -218)\" width=\"218\" x=\"26.925\" xlink:href=\"data:image/png;base64,\niVBORw0KGgoAAAANSUhEUgAAANoAAADaCAYAAADAHVzbAAAABHNCSVQICAgIfAhkiAAABAJJREFUeJzt3TuuI1UUQNH6+nXECAiZAGLYiIBRMAgQhB2T0WpsE0DQGaoj2O/RrJUf3auyd1Vyy17v7796LsC/anvtDcD/gdAgIDQICA0CQoOA0CAgNAgIDQJCg4DQICA0CAgNAkKDgNAgIDQICA0CQoOA0CAgNAgIDQJCg4DQICA0CAgNAkKDgNAgIDQICA0CQoOA0CAgNAgIDQJCg4DQICA0CAgNAkKDgNAgIDQICA0CQoOA0CAgNAgIDQJCg4DQICA0CAgNAkKDgNAgIDQICA0CQoOA0CAgNAgIDQJCg4DQICA0CAgNAkKDgNAgIDQICA0CQoOA0CAgNAgIDQJCg4DQICA0CAgNAkKDgNAgIDQICA0CQoOA0CAgNAgIDQJCg4DQICA0CAgNAkKDgNAgIDQICA0CQoOA0CAgNAgIDQJCg4DQICA0CAgNAkKDgNAgIDQICA0CQoOA0CAgNAgIDQJCg4DQICA0CAgNAsfH5300uC3rP7wVPif76h7+KVcDAkKDgNAgIDQICA0CQoOA0CAgNAgIDQJCg4DQICA0CAgNAseH58fX3sPf2v4D94N99TbDpx7P52tv4U15+99g+AwIDQJCg4DQICA0CAgNAkKDgNAgIDQICA0CQoOA0CBw/Pz7bHBfrh8aPdfHcK3rm5zeQfbh2eDyjrVP58KDz5Prscc/M7+98esBXCQ0CAgNAkKDgNAgIDQICA0CQoOA0CAgNAgIDQJCg4DQIHB89+s3o8GX9fqJ+nObvSrwbrLWYObPufto7t12/afVp3u8Dfc4We9cZmvtgzc1ptf+NtzjNtjjbZm9geKJBgGhQUBoEBAaBIQGAaFBQGgQEBoEhAYBoUFAaBAQGgSEBoHj2x+/Hg3u+/VTzMc2O/l8HtdPZ5/78IT7dI+D9c5teFp9OrdfP71/DP8v4WWw1m34dsf0Px1eBm9cvAz36IkGAaFBQGgQEBoEhAYBoUFAaBAQGgSEBgGhQUBoEBAaBI7jhy9Gg4/j+syHwcyyLMtvg7nH8Ryt9Rzu8blfnxnvcbDWsizLMljvuc/2uByDg77DtbbJWsuyrIP1Jofpl8UTDRJCg4DQICA0CAgNAkKDgNAgIDQICA0CQoOA0CAgNAgIDQLHl9+/n03ezssjz3N27Hwy97jN1hrPHetgrdl97nFeX2s6dz+HezwGn9n1r9Rfaw3nBtdjupYnGgSEBgGhQUBoEBAaBIQGAaFBQGgQEBoEhAYBoUFAaBA47j/9MptcZwdbK+tz9vPS01/bns6NbLPV1m3wme3DtY7rp2/Xc3hi97yNxtbBwefJYfpl8USDhNAgIDQICA0CQoOA0CAgNAgIDQJCg4DQICA0CAgNAkKDwB8yPFylhAjr1AAAAABJRU5ErkJggg==\" y=\"-6.64\"/>\n   </g>\n   <g id=\"matplotlib.axis_1\">\n    <g id=\"xtick_1\">\n     <g id=\"line2d_1\">\n      <defs>\n       <path d=\"M 0 0 \nL 0 3.5 \n\" id=\"m721620ca0e\" style=\"stroke:#000000;stroke-width:0.8;\"/>\n      </defs>\n      <g>\n       <use style=\"stroke:#000000;stroke-width:0.8;\" x=\"33.72\" xlink:href=\"#m721620ca0e\" y=\"224.64\"/>\n      </g>\n     </g>\n     <g id=\"text_1\">\n      <!-- 0.0 -->\n      <defs>\n       <path d=\"M 31.78125 66.40625 \nQ 24.171875 66.40625 20.328125 58.90625 \nQ 16.5 51.421875 16.5 36.375 \nQ 16.5 21.390625 20.328125 13.890625 \nQ 24.171875 6.390625 31.78125 6.390625 \nQ 39.453125 6.390625 43.28125 13.890625 \nQ 47.125 21.390625 47.125 36.375 \nQ 47.125 51.421875 43.28125 58.90625 \nQ 39.453125 66.40625 31.78125 66.40625 \nz\nM 31.78125 74.21875 \nQ 44.046875 74.21875 50.515625 64.515625 \nQ 56.984375 54.828125 56.984375 36.375 \nQ 56.984375 17.96875 50.515625 8.265625 \nQ 44.046875 -1.421875 31.78125 -1.421875 \nQ 19.53125 -1.421875 13.0625 8.265625 \nQ 6.59375 17.96875 6.59375 36.375 \nQ 6.59375 54.828125 13.0625 64.515625 \nQ 19.53125 74.21875 31.78125 74.21875 \nz\n\" id=\"DejaVuSans-48\"/>\n       <path d=\"M 10.6875 12.40625 \nL 21 12.40625 \nL 21 0 \nL 10.6875 0 \nz\n\" id=\"DejaVuSans-46\"/>\n      </defs>\n      <g transform=\"translate(25.768437 239.238437)scale(0.1 -0.1)\">\n       <use xlink:href=\"#DejaVuSans-48\"/>\n       <use x=\"63.623047\" xlink:href=\"#DejaVuSans-46\"/>\n       <use x=\"95.410156\" xlink:href=\"#DejaVuSans-48\"/>\n      </g>\n     </g>\n    </g>\n    <g id=\"xtick_2\">\n     <g id=\"line2d_2\">\n      <g>\n       <use style=\"stroke:#000000;stroke-width:0.8;\" x=\"67.695\" xlink:href=\"#m721620ca0e\" y=\"224.64\"/>\n      </g>\n     </g>\n     <g id=\"text_2\">\n      <!-- 2.5 -->\n      <defs>\n       <path d=\"M 19.1875 8.296875 \nL 53.609375 8.296875 \nL 53.609375 0 \nL 7.328125 0 \nL 7.328125 8.296875 \nQ 12.9375 14.109375 22.625 23.890625 \nQ 32.328125 33.6875 34.8125 36.53125 \nQ 39.546875 41.84375 41.421875 45.53125 \nQ 43.3125 49.21875 43.3125 52.78125 \nQ 43.3125 58.59375 39.234375 62.25 \nQ 35.15625 65.921875 28.609375 65.921875 \nQ 23.96875 65.921875 18.8125 64.3125 \nQ 13.671875 62.703125 7.8125 59.421875 \nL 7.8125 69.390625 \nQ 13.765625 71.78125 18.9375 73 \nQ 24.125 74.21875 28.421875 74.21875 \nQ 39.75 74.21875 46.484375 68.546875 \nQ 53.21875 62.890625 53.21875 53.421875 \nQ 53.21875 48.921875 51.53125 44.890625 \nQ 49.859375 40.875 45.40625 35.40625 \nQ 44.1875 33.984375 37.640625 27.21875 \nQ 31.109375 20.453125 19.1875 8.296875 \nz\n\" id=\"DejaVuSans-50\"/>\n       <path d=\"M 10.796875 72.90625 \nL 49.515625 72.90625 \nL 49.515625 64.59375 \nL 19.828125 64.59375 \nL 19.828125 46.734375 \nQ 21.96875 47.46875 24.109375 47.828125 \nQ 26.265625 48.1875 28.421875 48.1875 \nQ 40.625 48.1875 47.75 41.5 \nQ 54.890625 34.8125 54.890625 23.390625 \nQ 54.890625 11.625 47.5625 5.09375 \nQ 40.234375 -1.421875 26.90625 -1.421875 \nQ 22.3125 -1.421875 17.546875 -0.640625 \nQ 12.796875 0.140625 7.71875 1.703125 \nL 7.71875 11.625 \nQ 12.109375 9.234375 16.796875 8.0625 \nQ 21.484375 6.890625 26.703125 6.890625 \nQ 35.15625 6.890625 40.078125 11.328125 \nQ 45.015625 15.765625 45.015625 23.390625 \nQ 45.015625 31 40.078125 35.4375 \nQ 35.15625 39.890625 26.703125 39.890625 \nQ 22.75 39.890625 18.8125 39.015625 \nQ 14.890625 38.140625 10.796875 36.28125 \nz\n\" id=\"DejaVuSans-53\"/>\n      </defs>\n      <g transform=\"translate(59.743437 239.238437)scale(0.1 -0.1)\">\n       <use xlink:href=\"#DejaVuSans-50\"/>\n       <use x=\"63.623047\" xlink:href=\"#DejaVuSans-46\"/>\n       <use x=\"95.410156\" xlink:href=\"#DejaVuSans-53\"/>\n      </g>\n     </g>\n    </g>\n    <g id=\"xtick_3\">\n     <g id=\"line2d_3\">\n      <g>\n       <use style=\"stroke:#000000;stroke-width:0.8;\" x=\"101.67\" xlink:href=\"#m721620ca0e\" y=\"224.64\"/>\n      </g>\n     </g>\n     <g id=\"text_3\">\n      <!-- 5.0 -->\n      <g transform=\"translate(93.718438 239.238437)scale(0.1 -0.1)\">\n       <use xlink:href=\"#DejaVuSans-53\"/>\n       <use x=\"63.623047\" xlink:href=\"#DejaVuSans-46\"/>\n       <use x=\"95.410156\" xlink:href=\"#DejaVuSans-48\"/>\n      </g>\n     </g>\n    </g>\n    <g id=\"xtick_4\">\n     <g id=\"line2d_4\">\n      <g>\n       <use style=\"stroke:#000000;stroke-width:0.8;\" x=\"135.645\" xlink:href=\"#m721620ca0e\" y=\"224.64\"/>\n      </g>\n     </g>\n     <g id=\"text_4\">\n      <!-- 7.5 -->\n      <defs>\n       <path d=\"M 8.203125 72.90625 \nL 55.078125 72.90625 \nL 55.078125 68.703125 \nL 28.609375 0 \nL 18.3125 0 \nL 43.21875 64.59375 \nL 8.203125 64.59375 \nz\n\" id=\"DejaVuSans-55\"/>\n      </defs>\n      <g transform=\"translate(127.693437 239.238437)scale(0.1 -0.1)\">\n       <use xlink:href=\"#DejaVuSans-55\"/>\n       <use x=\"63.623047\" xlink:href=\"#DejaVuSans-46\"/>\n       <use x=\"95.410156\" xlink:href=\"#DejaVuSans-53\"/>\n      </g>\n     </g>\n    </g>\n    <g id=\"xtick_5\">\n     <g id=\"line2d_5\">\n      <g>\n       <use style=\"stroke:#000000;stroke-width:0.8;\" x=\"169.62\" xlink:href=\"#m721620ca0e\" y=\"224.64\"/>\n      </g>\n     </g>\n     <g id=\"text_5\">\n      <!-- 10.0 -->\n      <defs>\n       <path d=\"M 12.40625 8.296875 \nL 28.515625 8.296875 \nL 28.515625 63.921875 \nL 10.984375 60.40625 \nL 10.984375 69.390625 \nL 28.421875 72.90625 \nL 38.28125 72.90625 \nL 38.28125 8.296875 \nL 54.390625 8.296875 \nL 54.390625 0 \nL 12.40625 0 \nz\n\" id=\"DejaVuSans-49\"/>\n      </defs>\n      <g transform=\"translate(158.487188 239.238437)scale(0.1 -0.1)\">\n       <use xlink:href=\"#DejaVuSans-49\"/>\n       <use x=\"63.623047\" xlink:href=\"#DejaVuSans-48\"/>\n       <use x=\"127.246094\" xlink:href=\"#DejaVuSans-46\"/>\n       <use x=\"159.033203\" xlink:href=\"#DejaVuSans-48\"/>\n      </g>\n     </g>\n    </g>\n    <g id=\"xtick_6\">\n     <g id=\"line2d_6\">\n      <g>\n       <use style=\"stroke:#000000;stroke-width:0.8;\" x=\"203.595\" xlink:href=\"#m721620ca0e\" y=\"224.64\"/>\n      </g>\n     </g>\n     <g id=\"text_6\">\n      <!-- 12.5 -->\n      <g transform=\"translate(192.462187 239.238437)scale(0.1 -0.1)\">\n       <use xlink:href=\"#DejaVuSans-49\"/>\n       <use x=\"63.623047\" xlink:href=\"#DejaVuSans-50\"/>\n       <use x=\"127.246094\" xlink:href=\"#DejaVuSans-46\"/>\n       <use x=\"159.033203\" xlink:href=\"#DejaVuSans-53\"/>\n      </g>\n     </g>\n    </g>\n    <g id=\"xtick_7\">\n     <g id=\"line2d_7\">\n      <g>\n       <use style=\"stroke:#000000;stroke-width:0.8;\" x=\"237.57\" xlink:href=\"#m721620ca0e\" y=\"224.64\"/>\n      </g>\n     </g>\n     <g id=\"text_7\">\n      <!-- 15.0 -->\n      <g transform=\"translate(226.437187 239.238437)scale(0.1 -0.1)\">\n       <use xlink:href=\"#DejaVuSans-49\"/>\n       <use x=\"63.623047\" xlink:href=\"#DejaVuSans-53\"/>\n       <use x=\"127.246094\" xlink:href=\"#DejaVuSans-46\"/>\n       <use x=\"159.033203\" xlink:href=\"#DejaVuSans-48\"/>\n      </g>\n     </g>\n    </g>\n   </g>\n   <g id=\"matplotlib.axis_2\">\n    <g id=\"ytick_1\">\n     <g id=\"line2d_8\">\n      <defs>\n       <path d=\"M 0 0 \nL -3.5 0 \n\" id=\"me422f9c93e\" style=\"stroke:#000000;stroke-width:0.8;\"/>\n      </defs>\n      <g>\n       <use style=\"stroke:#000000;stroke-width:0.8;\" x=\"26.925\" xlink:href=\"#me422f9c93e\" y=\"13.995\"/>\n      </g>\n     </g>\n     <g id=\"text_8\">\n      <!-- 0 -->\n      <g transform=\"translate(13.5625 17.794219)scale(0.1 -0.1)\">\n       <use xlink:href=\"#DejaVuSans-48\"/>\n      </g>\n     </g>\n    </g>\n    <g id=\"ytick_2\">\n     <g id=\"line2d_9\">\n      <g>\n       <use style=\"stroke:#000000;stroke-width:0.8;\" x=\"26.925\" xlink:href=\"#me422f9c93e\" y=\"41.175\"/>\n      </g>\n     </g>\n     <g id=\"text_9\">\n      <!-- 2 -->\n      <g transform=\"translate(13.5625 44.974219)scale(0.1 -0.1)\">\n       <use xlink:href=\"#DejaVuSans-50\"/>\n      </g>\n     </g>\n    </g>\n    <g id=\"ytick_3\">\n     <g id=\"line2d_10\">\n      <g>\n       <use style=\"stroke:#000000;stroke-width:0.8;\" x=\"26.925\" xlink:href=\"#me422f9c93e\" y=\"68.355\"/>\n      </g>\n     </g>\n     <g id=\"text_10\">\n      <!-- 4 -->\n      <defs>\n       <path d=\"M 37.796875 64.3125 \nL 12.890625 25.390625 \nL 37.796875 25.390625 \nz\nM 35.203125 72.90625 \nL 47.609375 72.90625 \nL 47.609375 25.390625 \nL 58.015625 25.390625 \nL 58.015625 17.1875 \nL 47.609375 17.1875 \nL 47.609375 0 \nL 37.796875 0 \nL 37.796875 17.1875 \nL 4.890625 17.1875 \nL 4.890625 26.703125 \nz\n\" id=\"DejaVuSans-52\"/>\n      </defs>\n      <g transform=\"translate(13.5625 72.154219)scale(0.1 -0.1)\">\n       <use xlink:href=\"#DejaVuSans-52\"/>\n      </g>\n     </g>\n    </g>\n    <g id=\"ytick_4\">\n     <g id=\"line2d_11\">\n      <g>\n       <use style=\"stroke:#000000;stroke-width:0.8;\" x=\"26.925\" xlink:href=\"#me422f9c93e\" y=\"95.535\"/>\n      </g>\n     </g>\n     <g id=\"text_11\">\n      <!-- 6 -->\n      <defs>\n       <path d=\"M 33.015625 40.375 \nQ 26.375 40.375 22.484375 35.828125 \nQ 18.609375 31.296875 18.609375 23.390625 \nQ 18.609375 15.53125 22.484375 10.953125 \nQ 26.375 6.390625 33.015625 6.390625 \nQ 39.65625 6.390625 43.53125 10.953125 \nQ 47.40625 15.53125 47.40625 23.390625 \nQ 47.40625 31.296875 43.53125 35.828125 \nQ 39.65625 40.375 33.015625 40.375 \nz\nM 52.59375 71.296875 \nL 52.59375 62.3125 \nQ 48.875 64.0625 45.09375 64.984375 \nQ 41.3125 65.921875 37.59375 65.921875 \nQ 27.828125 65.921875 22.671875 59.328125 \nQ 17.53125 52.734375 16.796875 39.40625 \nQ 19.671875 43.65625 24.015625 45.921875 \nQ 28.375 48.1875 33.59375 48.1875 \nQ 44.578125 48.1875 50.953125 41.515625 \nQ 57.328125 34.859375 57.328125 23.390625 \nQ 57.328125 12.15625 50.6875 5.359375 \nQ 44.046875 -1.421875 33.015625 -1.421875 \nQ 20.359375 -1.421875 13.671875 8.265625 \nQ 6.984375 17.96875 6.984375 36.375 \nQ 6.984375 53.65625 15.1875 63.9375 \nQ 23.390625 74.21875 37.203125 74.21875 \nQ 40.921875 74.21875 44.703125 73.484375 \nQ 48.484375 72.75 52.59375 71.296875 \nz\n\" id=\"DejaVuSans-54\"/>\n      </defs>\n      <g transform=\"translate(13.5625 99.334219)scale(0.1 -0.1)\">\n       <use xlink:href=\"#DejaVuSans-54\"/>\n      </g>\n     </g>\n    </g>\n    <g id=\"ytick_5\">\n     <g id=\"line2d_12\">\n      <g>\n       <use style=\"stroke:#000000;stroke-width:0.8;\" x=\"26.925\" xlink:href=\"#me422f9c93e\" y=\"122.715\"/>\n      </g>\n     </g>\n     <g id=\"text_12\">\n      <!-- 8 -->\n      <defs>\n       <path d=\"M 31.78125 34.625 \nQ 24.75 34.625 20.71875 30.859375 \nQ 16.703125 27.09375 16.703125 20.515625 \nQ 16.703125 13.921875 20.71875 10.15625 \nQ 24.75 6.390625 31.78125 6.390625 \nQ 38.8125 6.390625 42.859375 10.171875 \nQ 46.921875 13.96875 46.921875 20.515625 \nQ 46.921875 27.09375 42.890625 30.859375 \nQ 38.875 34.625 31.78125 34.625 \nz\nM 21.921875 38.8125 \nQ 15.578125 40.375 12.03125 44.71875 \nQ 8.5 49.078125 8.5 55.328125 \nQ 8.5 64.0625 14.71875 69.140625 \nQ 20.953125 74.21875 31.78125 74.21875 \nQ 42.671875 74.21875 48.875 69.140625 \nQ 55.078125 64.0625 55.078125 55.328125 \nQ 55.078125 49.078125 51.53125 44.71875 \nQ 48 40.375 41.703125 38.8125 \nQ 48.828125 37.15625 52.796875 32.3125 \nQ 56.78125 27.484375 56.78125 20.515625 \nQ 56.78125 9.90625 50.3125 4.234375 \nQ 43.84375 -1.421875 31.78125 -1.421875 \nQ 19.734375 -1.421875 13.25 4.234375 \nQ 6.78125 9.90625 6.78125 20.515625 \nQ 6.78125 27.484375 10.78125 32.3125 \nQ 14.796875 37.15625 21.921875 38.8125 \nz\nM 18.3125 54.390625 \nQ 18.3125 48.734375 21.84375 45.5625 \nQ 25.390625 42.390625 31.78125 42.390625 \nQ 38.140625 42.390625 41.71875 45.5625 \nQ 45.3125 48.734375 45.3125 54.390625 \nQ 45.3125 60.0625 41.71875 63.234375 \nQ 38.140625 66.40625 31.78125 66.40625 \nQ 25.390625 66.40625 21.84375 63.234375 \nQ 18.3125 60.0625 18.3125 54.390625 \nz\n\" id=\"DejaVuSans-56\"/>\n      </defs>\n      <g transform=\"translate(13.5625 126.514219)scale(0.1 -0.1)\">\n       <use xlink:href=\"#DejaVuSans-56\"/>\n      </g>\n     </g>\n    </g>\n    <g id=\"ytick_6\">\n     <g id=\"line2d_13\">\n      <g>\n       <use style=\"stroke:#000000;stroke-width:0.8;\" x=\"26.925\" xlink:href=\"#me422f9c93e\" y=\"149.895\"/>\n      </g>\n     </g>\n     <g id=\"text_13\">\n      <!-- 10 -->\n      <g transform=\"translate(7.2 153.694219)scale(0.1 -0.1)\">\n       <use xlink:href=\"#DejaVuSans-49\"/>\n       <use x=\"63.623047\" xlink:href=\"#DejaVuSans-48\"/>\n      </g>\n     </g>\n    </g>\n    <g id=\"ytick_7\">\n     <g id=\"line2d_14\">\n      <g>\n       <use style=\"stroke:#000000;stroke-width:0.8;\" x=\"26.925\" xlink:href=\"#me422f9c93e\" y=\"177.075\"/>\n      </g>\n     </g>\n     <g id=\"text_14\">\n      <!-- 12 -->\n      <g transform=\"translate(7.2 180.874219)scale(0.1 -0.1)\">\n       <use xlink:href=\"#DejaVuSans-49\"/>\n       <use x=\"63.623047\" xlink:href=\"#DejaVuSans-50\"/>\n      </g>\n     </g>\n    </g>\n    <g id=\"ytick_8\">\n     <g id=\"line2d_15\">\n      <g>\n       <use style=\"stroke:#000000;stroke-width:0.8;\" x=\"26.925\" xlink:href=\"#me422f9c93e\" y=\"204.255\"/>\n      </g>\n     </g>\n     <g id=\"text_15\">\n      <!-- 14 -->\n      <g transform=\"translate(7.2 208.054219)scale(0.1 -0.1)\">\n       <use xlink:href=\"#DejaVuSans-49\"/>\n       <use x=\"63.623047\" xlink:href=\"#DejaVuSans-52\"/>\n      </g>\n     </g>\n    </g>\n   </g>\n   <g id=\"patch_3\">\n    <path d=\"M 26.925 224.64 \nL 26.925 7.2 \n\" style=\"fill:none;stroke:#000000;stroke-linecap:square;stroke-linejoin:miter;stroke-width:0.8;\"/>\n   </g>\n   <g id=\"patch_4\">\n    <path d=\"M 244.365 224.64 \nL 244.365 7.2 \n\" style=\"fill:none;stroke:#000000;stroke-linecap:square;stroke-linejoin:miter;stroke-width:0.8;\"/>\n   </g>\n   <g id=\"patch_5\">\n    <path d=\"M 26.925 224.64 \nL 244.365 224.64 \n\" style=\"fill:none;stroke:#000000;stroke-linecap:square;stroke-linejoin:miter;stroke-width:0.8;\"/>\n   </g>\n   <g id=\"patch_6\">\n    <path d=\"M 26.925 7.2 \nL 244.365 7.2 \n\" style=\"fill:none;stroke:#000000;stroke-linecap:square;stroke-linejoin:miter;stroke-width:0.8;\"/>\n   </g>\n  </g>\n </g>\n <defs>\n  <clipPath id=\"pc5a16e3543\">\n   <rect height=\"217.44\" width=\"217.44\" x=\"26.925\" y=\"7.2\"/>\n  </clipPath>\n </defs>\n</svg>\n",
      "image/png": "[encoded data removed]"
     },
     "metadata": {
      "needs_background": "light"
     }
    }
   ],
   "source": [
    "plt.imshow(yhat.reshape(16, 16))"
   ]
  },
  {
   "cell_type": "code",
   "execution_count": 79,
   "metadata": {},
   "outputs": [
    {
     "output_type": "execute_result",
     "data": {
      "text/plain": "<matplotlib.image.AxesImage at 0x1526842d0>"
     },
     "metadata": {},
     "execution_count": 79
    },
    {
     "output_type": "display_data",
     "data": {
      "text/plain": "<Figure size 432x288 with 1 Axes>",
      "image/svg+xml": "<?xml version=\"1.0\" encoding=\"utf-8\" standalone=\"no\"?>\n<!DOCTYPE svg PUBLIC \"-//W3C//DTD SVG 1.1//EN\"\n  \"http://www.w3.org/Graphics/SVG/1.1/DTD/svg11.dtd\">\n<!-- Created with matplotlib (https://matplotlib.org/) -->\n<svg height=\"248.518125pt\" version=\"1.1\" viewBox=\"0 0 255.902812 248.518125\" width=\"255.902812pt\" xmlns=\"http://www.w3.org/2000/svg\" xmlns:xlink=\"http://www.w3.org/1999/xlink\">\n <defs>\n  <style type=\"text/css\">\n*{stroke-linecap:butt;stroke-linejoin:round;}\n  </style>\n </defs>\n <g id=\"figure_1\">\n  <g id=\"patch_1\">\n   <path d=\"M 0 248.518125 \nL 255.902812 248.518125 \nL 255.902812 0 \nL 0 0 \nz\n\" style=\"fill:none;\"/>\n  </g>\n  <g id=\"axes_1\">\n   <g id=\"patch_2\">\n    <path d=\"M 26.925 224.64 \nL 244.365 224.64 \nL 244.365 7.2 \nL 26.925 7.2 \nz\n\" style=\"fill:#ffffff;\"/>\n   </g>\n   <g clip-path=\"url(#pe9c0c65299)\">\n    <image height=\"218\" id=\"imageb2966bcf8b\" transform=\"scale(1 -1)translate(0 -218)\" width=\"218\" x=\"26.925\" xlink:href=\"data:image/png;base64,\niVBORw0KGgoAAAANSUhEUgAAANoAAADaCAYAAADAHVzbAAAABHNCSVQICAgIfAhkiAAABA5JREFUeJzt3SGPFVcYgOE7ewc2aaEeR1EYVF1rV7CqhqT/p/+ksgJLEwR6NZ5W1TdNQ7Ld5U5FFbj5xEsLz+NPzuzcvBzzzWG5WJ5th8iyrqN122nwiKd3o71Sy9Lutw3e49lxttfk/U/fx+Tvip197AeAz4HQICA0CAgNAkKDgNAgIDQICA0CQoOA0CAgNAgIDQJCg8BaTkxvt7ezvULL+flo3XZ9vXvNX798Pdrr1ZOfR+u+f/jd7jXbu/AriP/BFP6UEw0CQoOA0CAgNAgIDQJCg4DQICA0CAgNAkKDgNAgIDQIrJ/sIOfwKuvJcPDUvcvfRuvOf78zWrd983j/oqvXo714nxMNAkKDgNAgIDQICA0CQoOA0CAgNAgIDQJCg4DQICA0CAgNAsvF8YfZ+P4pvCr6UzW8jv3PF49G647L/p/6y6e/jvYaGX5xsRyHX2rc/L1/r3Ud7eVEg4DQICA0CAgNAkKDgNAgIDQICA0CQoOA0CAgNAgIDQJCg8A6ncJf7tzdvWYyLV3vNZ0gH73H4f97cP/He6N1L5//tHvN5RffjvY6vX27f9F2Gu213Qy/JBl8PbHd3o62cqJBQGgQEBoEhAYBoUFAaBAQGgSEBgGhQUBoEBAaBIQGgXU6RDu6TnkwHDzda3y99Nnsmu7hPOzIcvV6tO56u9m95o/nD0Z7fXX5Zv+i4ZD12GS/4TXuTjQICA0CQoOA0CAgNAgIDQJCg4DQICA0CAgNAkKDgNAgIDQILBfLs25kejj5fFgG/x4MrzrnA8PfbDnu/3piet12+lXIkBMNAkKDgNAgIDQICA0CQoOA0CAgNAgIDQJCg4DQICA0CKzThcu6f+l0aPSw7R8Qnjzfv1sNh5HD66WnV2eXv9noPQ7fx3g4ePr+B5xoEBAaBIQGAaFBQGgQEBoEhAYBoUFAaBAQGgSEBgGhQUBoEBhP748n8SP/9ec7HA7jKfzxduU7if+2kfAZnWgQEBoEhAYBoUFAaBAQGgSEBgGhQUBoEBAaBIQGAaFBQGgQEBoEhAYBoUFAaBAQGgSEBgGhQUBoEBAaBIQGAaFBQGgQEBoEhAYBoUFAaBAQGgSEBgGhQUBoEBAaBIQGAaFBQGgQEBoEhAYBoUFAaBAQGgSEBgGhQUBoEBAaBIQGAaFBQGgQEBoEhAYBoUFAaBAQGgSEBgGhQUBoEBAaBIQGAaFBQGgQEBoEhAYBoUFAaBAQGgSEBgGhQUBoEBAaBIQGAaFBQGgQEBoEhAYBoUFAaBAQGgSEBgGhQUBoEBAaBIQGAaFBQGgQEBoEhAYBoUFAaBAQGgSEBgGhQUBoEBAaBIQGAaFBQGgQEBoEhAYBoUFAaBAQGgSEBgGhQUBoEBAaBIQGAaFB4B9Bfo7V2+pd+wAAAABJRU5ErkJggg==\" y=\"-6.64\"/>\n   </g>\n   <g id=\"matplotlib.axis_1\">\n    <g id=\"xtick_1\">\n     <g id=\"line2d_1\">\n      <defs>\n       <path d=\"M 0 0 \nL 0 3.5 \n\" id=\"m81d7d66baf\" style=\"stroke:#000000;stroke-width:0.8;\"/>\n      </defs>\n      <g>\n       <use style=\"stroke:#000000;stroke-width:0.8;\" x=\"33.72\" xlink:href=\"#m81d7d66baf\" y=\"224.64\"/>\n      </g>\n     </g>\n     <g id=\"text_1\">\n      <!-- 0.0 -->\n      <defs>\n       <path d=\"M 31.78125 66.40625 \nQ 24.171875 66.40625 20.328125 58.90625 \nQ 16.5 51.421875 16.5 36.375 \nQ 16.5 21.390625 20.328125 13.890625 \nQ 24.171875 6.390625 31.78125 6.390625 \nQ 39.453125 6.390625 43.28125 13.890625 \nQ 47.125 21.390625 47.125 36.375 \nQ 47.125 51.421875 43.28125 58.90625 \nQ 39.453125 66.40625 31.78125 66.40625 \nz\nM 31.78125 74.21875 \nQ 44.046875 74.21875 50.515625 64.515625 \nQ 56.984375 54.828125 56.984375 36.375 \nQ 56.984375 17.96875 50.515625 8.265625 \nQ 44.046875 -1.421875 31.78125 -1.421875 \nQ 19.53125 -1.421875 13.0625 8.265625 \nQ 6.59375 17.96875 6.59375 36.375 \nQ 6.59375 54.828125 13.0625 64.515625 \nQ 19.53125 74.21875 31.78125 74.21875 \nz\n\" id=\"DejaVuSans-48\"/>\n       <path d=\"M 10.6875 12.40625 \nL 21 12.40625 \nL 21 0 \nL 10.6875 0 \nz\n\" id=\"DejaVuSans-46\"/>\n      </defs>\n      <g transform=\"translate(25.768437 239.238437)scale(0.1 -0.1)\">\n       <use xlink:href=\"#DejaVuSans-48\"/>\n       <use x=\"63.623047\" xlink:href=\"#DejaVuSans-46\"/>\n       <use x=\"95.410156\" xlink:href=\"#DejaVuSans-48\"/>\n      </g>\n     </g>\n    </g>\n    <g id=\"xtick_2\">\n     <g id=\"line2d_2\">\n      <g>\n       <use style=\"stroke:#000000;stroke-width:0.8;\" x=\"67.695\" xlink:href=\"#m81d7d66baf\" y=\"224.64\"/>\n      </g>\n     </g>\n     <g id=\"text_2\">\n      <!-- 2.5 -->\n      <defs>\n       <path d=\"M 19.1875 8.296875 \nL 53.609375 8.296875 \nL 53.609375 0 \nL 7.328125 0 \nL 7.328125 8.296875 \nQ 12.9375 14.109375 22.625 23.890625 \nQ 32.328125 33.6875 34.8125 36.53125 \nQ 39.546875 41.84375 41.421875 45.53125 \nQ 43.3125 49.21875 43.3125 52.78125 \nQ 43.3125 58.59375 39.234375 62.25 \nQ 35.15625 65.921875 28.609375 65.921875 \nQ 23.96875 65.921875 18.8125 64.3125 \nQ 13.671875 62.703125 7.8125 59.421875 \nL 7.8125 69.390625 \nQ 13.765625 71.78125 18.9375 73 \nQ 24.125 74.21875 28.421875 74.21875 \nQ 39.75 74.21875 46.484375 68.546875 \nQ 53.21875 62.890625 53.21875 53.421875 \nQ 53.21875 48.921875 51.53125 44.890625 \nQ 49.859375 40.875 45.40625 35.40625 \nQ 44.1875 33.984375 37.640625 27.21875 \nQ 31.109375 20.453125 19.1875 8.296875 \nz\n\" id=\"DejaVuSans-50\"/>\n       <path d=\"M 10.796875 72.90625 \nL 49.515625 72.90625 \nL 49.515625 64.59375 \nL 19.828125 64.59375 \nL 19.828125 46.734375 \nQ 21.96875 47.46875 24.109375 47.828125 \nQ 26.265625 48.1875 28.421875 48.1875 \nQ 40.625 48.1875 47.75 41.5 \nQ 54.890625 34.8125 54.890625 23.390625 \nQ 54.890625 11.625 47.5625 5.09375 \nQ 40.234375 -1.421875 26.90625 -1.421875 \nQ 22.3125 -1.421875 17.546875 -0.640625 \nQ 12.796875 0.140625 7.71875 1.703125 \nL 7.71875 11.625 \nQ 12.109375 9.234375 16.796875 8.0625 \nQ 21.484375 6.890625 26.703125 6.890625 \nQ 35.15625 6.890625 40.078125 11.328125 \nQ 45.015625 15.765625 45.015625 23.390625 \nQ 45.015625 31 40.078125 35.4375 \nQ 35.15625 39.890625 26.703125 39.890625 \nQ 22.75 39.890625 18.8125 39.015625 \nQ 14.890625 38.140625 10.796875 36.28125 \nz\n\" id=\"DejaVuSans-53\"/>\n      </defs>\n      <g transform=\"translate(59.743437 239.238437)scale(0.1 -0.1)\">\n       <use xlink:href=\"#DejaVuSans-50\"/>\n       <use x=\"63.623047\" xlink:href=\"#DejaVuSans-46\"/>\n       <use x=\"95.410156\" xlink:href=\"#DejaVuSans-53\"/>\n      </g>\n     </g>\n    </g>\n    <g id=\"xtick_3\">\n     <g id=\"line2d_3\">\n      <g>\n       <use style=\"stroke:#000000;stroke-width:0.8;\" x=\"101.67\" xlink:href=\"#m81d7d66baf\" y=\"224.64\"/>\n      </g>\n     </g>\n     <g id=\"text_3\">\n      <!-- 5.0 -->\n      <g transform=\"translate(93.718438 239.238437)scale(0.1 -0.1)\">\n       <use xlink:href=\"#DejaVuSans-53\"/>\n       <use x=\"63.623047\" xlink:href=\"#DejaVuSans-46\"/>\n       <use x=\"95.410156\" xlink:href=\"#DejaVuSans-48\"/>\n      </g>\n     </g>\n    </g>\n    <g id=\"xtick_4\">\n     <g id=\"line2d_4\">\n      <g>\n       <use style=\"stroke:#000000;stroke-width:0.8;\" x=\"135.645\" xlink:href=\"#m81d7d66baf\" y=\"224.64\"/>\n      </g>\n     </g>\n     <g id=\"text_4\">\n      <!-- 7.5 -->\n      <defs>\n       <path d=\"M 8.203125 72.90625 \nL 55.078125 72.90625 \nL 55.078125 68.703125 \nL 28.609375 0 \nL 18.3125 0 \nL 43.21875 64.59375 \nL 8.203125 64.59375 \nz\n\" id=\"DejaVuSans-55\"/>\n      </defs>\n      <g transform=\"translate(127.693437 239.238437)scale(0.1 -0.1)\">\n       <use xlink:href=\"#DejaVuSans-55\"/>\n       <use x=\"63.623047\" xlink:href=\"#DejaVuSans-46\"/>\n       <use x=\"95.410156\" xlink:href=\"#DejaVuSans-53\"/>\n      </g>\n     </g>\n    </g>\n    <g id=\"xtick_5\">\n     <g id=\"line2d_5\">\n      <g>\n       <use style=\"stroke:#000000;stroke-width:0.8;\" x=\"169.62\" xlink:href=\"#m81d7d66baf\" y=\"224.64\"/>\n      </g>\n     </g>\n     <g id=\"text_5\">\n      <!-- 10.0 -->\n      <defs>\n       <path d=\"M 12.40625 8.296875 \nL 28.515625 8.296875 \nL 28.515625 63.921875 \nL 10.984375 60.40625 \nL 10.984375 69.390625 \nL 28.421875 72.90625 \nL 38.28125 72.90625 \nL 38.28125 8.296875 \nL 54.390625 8.296875 \nL 54.390625 0 \nL 12.40625 0 \nz\n\" id=\"DejaVuSans-49\"/>\n      </defs>\n      <g transform=\"translate(158.487188 239.238437)scale(0.1 -0.1)\">\n       <use xlink:href=\"#DejaVuSans-49\"/>\n       <use x=\"63.623047\" xlink:href=\"#DejaVuSans-48\"/>\n       <use x=\"127.246094\" xlink:href=\"#DejaVuSans-46\"/>\n       <use x=\"159.033203\" xlink:href=\"#DejaVuSans-48\"/>\n      </g>\n     </g>\n    </g>\n    <g id=\"xtick_6\">\n     <g id=\"line2d_6\">\n      <g>\n       <use style=\"stroke:#000000;stroke-width:0.8;\" x=\"203.595\" xlink:href=\"#m81d7d66baf\" y=\"224.64\"/>\n      </g>\n     </g>\n     <g id=\"text_6\">\n      <!-- 12.5 -->\n      <g transform=\"translate(192.462187 239.238437)scale(0.1 -0.1)\">\n       <use xlink:href=\"#DejaVuSans-49\"/>\n       <use x=\"63.623047\" xlink:href=\"#DejaVuSans-50\"/>\n       <use x=\"127.246094\" xlink:href=\"#DejaVuSans-46\"/>\n       <use x=\"159.033203\" xlink:href=\"#DejaVuSans-53\"/>\n      </g>\n     </g>\n    </g>\n    <g id=\"xtick_7\">\n     <g id=\"line2d_7\">\n      <g>\n       <use style=\"stroke:#000000;stroke-width:0.8;\" x=\"237.57\" xlink:href=\"#m81d7d66baf\" y=\"224.64\"/>\n      </g>\n     </g>\n     <g id=\"text_7\">\n      <!-- 15.0 -->\n      <g transform=\"translate(226.437187 239.238437)scale(0.1 -0.1)\">\n       <use xlink:href=\"#DejaVuSans-49\"/>\n       <use x=\"63.623047\" xlink:href=\"#DejaVuSans-53\"/>\n       <use x=\"127.246094\" xlink:href=\"#DejaVuSans-46\"/>\n       <use x=\"159.033203\" xlink:href=\"#DejaVuSans-48\"/>\n      </g>\n     </g>\n    </g>\n   </g>\n   <g id=\"matplotlib.axis_2\">\n    <g id=\"ytick_1\">\n     <g id=\"line2d_8\">\n      <defs>\n       <path d=\"M 0 0 \nL -3.5 0 \n\" id=\"mc5f0e16c9a\" style=\"stroke:#000000;stroke-width:0.8;\"/>\n      </defs>\n      <g>\n       <use style=\"stroke:#000000;stroke-width:0.8;\" x=\"26.925\" xlink:href=\"#mc5f0e16c9a\" y=\"13.995\"/>\n      </g>\n     </g>\n     <g id=\"text_8\">\n      <!-- 0 -->\n      <g transform=\"translate(13.5625 17.794219)scale(0.1 -0.1)\">\n       <use xlink:href=\"#DejaVuSans-48\"/>\n      </g>\n     </g>\n    </g>\n    <g id=\"ytick_2\">\n     <g id=\"line2d_9\">\n      <g>\n       <use style=\"stroke:#000000;stroke-width:0.8;\" x=\"26.925\" xlink:href=\"#mc5f0e16c9a\" y=\"41.175\"/>\n      </g>\n     </g>\n     <g id=\"text_9\">\n      <!-- 2 -->\n      <g transform=\"translate(13.5625 44.974219)scale(0.1 -0.1)\">\n       <use xlink:href=\"#DejaVuSans-50\"/>\n      </g>\n     </g>\n    </g>\n    <g id=\"ytick_3\">\n     <g id=\"line2d_10\">\n      <g>\n       <use style=\"stroke:#000000;stroke-width:0.8;\" x=\"26.925\" xlink:href=\"#mc5f0e16c9a\" y=\"68.355\"/>\n      </g>\n     </g>\n     <g id=\"text_10\">\n      <!-- 4 -->\n      <defs>\n       <path d=\"M 37.796875 64.3125 \nL 12.890625 25.390625 \nL 37.796875 25.390625 \nz\nM 35.203125 72.90625 \nL 47.609375 72.90625 \nL 47.609375 25.390625 \nL 58.015625 25.390625 \nL 58.015625 17.1875 \nL 47.609375 17.1875 \nL 47.609375 0 \nL 37.796875 0 \nL 37.796875 17.1875 \nL 4.890625 17.1875 \nL 4.890625 26.703125 \nz\n\" id=\"DejaVuSans-52\"/>\n      </defs>\n      <g transform=\"translate(13.5625 72.154219)scale(0.1 -0.1)\">\n       <use xlink:href=\"#DejaVuSans-52\"/>\n      </g>\n     </g>\n    </g>\n    <g id=\"ytick_4\">\n     <g id=\"line2d_11\">\n      <g>\n       <use style=\"stroke:#000000;stroke-width:0.8;\" x=\"26.925\" xlink:href=\"#mc5f0e16c9a\" y=\"95.535\"/>\n      </g>\n     </g>\n     <g id=\"text_11\">\n      <!-- 6 -->\n      <defs>\n       <path d=\"M 33.015625 40.375 \nQ 26.375 40.375 22.484375 35.828125 \nQ 18.609375 31.296875 18.609375 23.390625 \nQ 18.609375 15.53125 22.484375 10.953125 \nQ 26.375 6.390625 33.015625 6.390625 \nQ 39.65625 6.390625 43.53125 10.953125 \nQ 47.40625 15.53125 47.40625 23.390625 \nQ 47.40625 31.296875 43.53125 35.828125 \nQ 39.65625 40.375 33.015625 40.375 \nz\nM 52.59375 71.296875 \nL 52.59375 62.3125 \nQ 48.875 64.0625 45.09375 64.984375 \nQ 41.3125 65.921875 37.59375 65.921875 \nQ 27.828125 65.921875 22.671875 59.328125 \nQ 17.53125 52.734375 16.796875 39.40625 \nQ 19.671875 43.65625 24.015625 45.921875 \nQ 28.375 48.1875 33.59375 48.1875 \nQ 44.578125 48.1875 50.953125 41.515625 \nQ 57.328125 34.859375 57.328125 23.390625 \nQ 57.328125 12.15625 50.6875 5.359375 \nQ 44.046875 -1.421875 33.015625 -1.421875 \nQ 20.359375 -1.421875 13.671875 8.265625 \nQ 6.984375 17.96875 6.984375 36.375 \nQ 6.984375 53.65625 15.1875 63.9375 \nQ 23.390625 74.21875 37.203125 74.21875 \nQ 40.921875 74.21875 44.703125 73.484375 \nQ 48.484375 72.75 52.59375 71.296875 \nz\n\" id=\"DejaVuSans-54\"/>\n      </defs>\n      <g transform=\"translate(13.5625 99.334219)scale(0.1 -0.1)\">\n       <use xlink:href=\"#DejaVuSans-54\"/>\n      </g>\n     </g>\n    </g>\n    <g id=\"ytick_5\">\n     <g id=\"line2d_12\">\n      <g>\n       <use style=\"stroke:#000000;stroke-width:0.8;\" x=\"26.925\" xlink:href=\"#mc5f0e16c9a\" y=\"122.715\"/>\n      </g>\n     </g>\n     <g id=\"text_12\">\n      <!-- 8 -->\n      <defs>\n       <path d=\"M 31.78125 34.625 \nQ 24.75 34.625 20.71875 30.859375 \nQ 16.703125 27.09375 16.703125 20.515625 \nQ 16.703125 13.921875 20.71875 10.15625 \nQ 24.75 6.390625 31.78125 6.390625 \nQ 38.8125 6.390625 42.859375 10.171875 \nQ 46.921875 13.96875 46.921875 20.515625 \nQ 46.921875 27.09375 42.890625 30.859375 \nQ 38.875 34.625 31.78125 34.625 \nz\nM 21.921875 38.8125 \nQ 15.578125 40.375 12.03125 44.71875 \nQ 8.5 49.078125 8.5 55.328125 \nQ 8.5 64.0625 14.71875 69.140625 \nQ 20.953125 74.21875 31.78125 74.21875 \nQ 42.671875 74.21875 48.875 69.140625 \nQ 55.078125 64.0625 55.078125 55.328125 \nQ 55.078125 49.078125 51.53125 44.71875 \nQ 48 40.375 41.703125 38.8125 \nQ 48.828125 37.15625 52.796875 32.3125 \nQ 56.78125 27.484375 56.78125 20.515625 \nQ 56.78125 9.90625 50.3125 4.234375 \nQ 43.84375 -1.421875 31.78125 -1.421875 \nQ 19.734375 -1.421875 13.25 4.234375 \nQ 6.78125 9.90625 6.78125 20.515625 \nQ 6.78125 27.484375 10.78125 32.3125 \nQ 14.796875 37.15625 21.921875 38.8125 \nz\nM 18.3125 54.390625 \nQ 18.3125 48.734375 21.84375 45.5625 \nQ 25.390625 42.390625 31.78125 42.390625 \nQ 38.140625 42.390625 41.71875 45.5625 \nQ 45.3125 48.734375 45.3125 54.390625 \nQ 45.3125 60.0625 41.71875 63.234375 \nQ 38.140625 66.40625 31.78125 66.40625 \nQ 25.390625 66.40625 21.84375 63.234375 \nQ 18.3125 60.0625 18.3125 54.390625 \nz\n\" id=\"DejaVuSans-56\"/>\n      </defs>\n      <g transform=\"translate(13.5625 126.514219)scale(0.1 -0.1)\">\n       <use xlink:href=\"#DejaVuSans-56\"/>\n      </g>\n     </g>\n    </g>\n    <g id=\"ytick_6\">\n     <g id=\"line2d_13\">\n      <g>\n       <use style=\"stroke:#000000;stroke-width:0.8;\" x=\"26.925\" xlink:href=\"#mc5f0e16c9a\" y=\"149.895\"/>\n      </g>\n     </g>\n     <g id=\"text_13\">\n      <!-- 10 -->\n      <g transform=\"translate(7.2 153.694219)scale(0.1 -0.1)\">\n       <use xlink:href=\"#DejaVuSans-49\"/>\n       <use x=\"63.623047\" xlink:href=\"#DejaVuSans-48\"/>\n      </g>\n     </g>\n    </g>\n    <g id=\"ytick_7\">\n     <g id=\"line2d_14\">\n      <g>\n       <use style=\"stroke:#000000;stroke-width:0.8;\" x=\"26.925\" xlink:href=\"#mc5f0e16c9a\" y=\"177.075\"/>\n      </g>\n     </g>\n     <g id=\"text_14\">\n      <!-- 12 -->\n      <g transform=\"translate(7.2 180.874219)scale(0.1 -0.1)\">\n       <use xlink:href=\"#DejaVuSans-49\"/>\n       <use x=\"63.623047\" xlink:href=\"#DejaVuSans-50\"/>\n      </g>\n     </g>\n    </g>\n    <g id=\"ytick_8\">\n     <g id=\"line2d_15\">\n      <g>\n       <use style=\"stroke:#000000;stroke-width:0.8;\" x=\"26.925\" xlink:href=\"#mc5f0e16c9a\" y=\"204.255\"/>\n      </g>\n     </g>\n     <g id=\"text_15\">\n      <!-- 14 -->\n      <g transform=\"translate(7.2 208.054219)scale(0.1 -0.1)\">\n       <use xlink:href=\"#DejaVuSans-49\"/>\n       <use x=\"63.623047\" xlink:href=\"#DejaVuSans-52\"/>\n      </g>\n     </g>\n    </g>\n   </g>\n   <g id=\"patch_3\">\n    <path d=\"M 26.925 224.64 \nL 26.925 7.2 \n\" style=\"fill:none;stroke:#000000;stroke-linecap:square;stroke-linejoin:miter;stroke-width:0.8;\"/>\n   </g>\n   <g id=\"patch_4\">\n    <path d=\"M 244.365 224.64 \nL 244.365 7.2 \n\" style=\"fill:none;stroke:#000000;stroke-linecap:square;stroke-linejoin:miter;stroke-width:0.8;\"/>\n   </g>\n   <g id=\"patch_5\">\n    <path d=\"M 26.925 224.64 \nL 244.365 224.64 \n\" style=\"fill:none;stroke:#000000;stroke-linecap:square;stroke-linejoin:miter;stroke-width:0.8;\"/>\n   </g>\n   <g id=\"patch_6\">\n    <path d=\"M 26.925 7.2 \nL 244.365 7.2 \n\" style=\"fill:none;stroke:#000000;stroke-linecap:square;stroke-linejoin:miter;stroke-width:0.8;\"/>\n   </g>\n  </g>\n </g>\n <defs>\n  <clipPath id=\"pe9c0c65299\">\n   <rect height=\"217.44\" width=\"217.44\" x=\"26.925\" y=\"7.2\"/>\n  </clipPath>\n </defs>\n</svg>\n",
      "image/png": "[encoded data removed]"
     },
     "metadata": {
      "needs_background": "light"
     }
    }
   ],
   "source": [
    "plt.imshow(data[0])"
   ]
  },
  {
   "cell_type": "code",
   "execution_count": null,
   "metadata": {},
   "outputs": [],
   "source": []
  }
 ],
 "metadata": {
  "language_info": {
   "codemirror_mode": {
    "name": "ipython",
    "version": 3
   },
   "file_extension": ".py",
   "mimetype": "text/x-python",
   "name": "python",
   "nbconvert_exporter": "python",
   "pygments_lexer": "ipython3",
   "version": "3.7.7-final"
  },
  "orig_nbformat": 2,
  "kernelspec": {
   "name": "python37764bitvenvvenvaa460c9e5f7342379adccfb6a8521cac",
   "display_name": "Python 3.7.7 64-bit ('venv': venv)"
  }
 },
 "nbformat": 4,
 "nbformat_minor": 2
}