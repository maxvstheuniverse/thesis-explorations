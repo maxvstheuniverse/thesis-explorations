{
 "cells": [
  {
   "cell_type": "code",
   "execution_count": 11,
   "metadata": {},
   "outputs": [],
   "source": [
    "import matplotlib.pyplot as plt\n",
    "import numpy as np\n",
    "import random"
   ]
  },
  {
   "cell_type": "code",
   "execution_count": 35,
   "metadata": {},
   "outputs": [
    {
     "output_type": "error",
     "ename": "SyntaxError",
     "evalue": "invalid syntax (<ipython-input-35-8b9138a58733>, line 7)",
     "traceback": [
      "\u001b[0;36m  File \u001b[0;32m\"<ipython-input-35-8b9138a58733>\"\u001b[0;36m, line \u001b[0;32m7\u001b[0m\n\u001b[0;31m    ,[206,,19,162,253,254,254,254,254,254,254,254,254,254,254,254,254]\u001b[0m\n\u001b[0m          ^\u001b[0m\n\u001b[0;31mSyntaxError\u001b[0m\u001b[0;31m:\u001b[0m invalid syntax\n"
     ]
    }
   ],
   "source": [
    "abc = [c for c in 'abcdefghijklmnopqrstuvwxyz'][:16]\n",
    "print(abc)\n",
    "\n",
    "drawing = np.array([[253,254,253,254,254,252,254,254,254,254,254,254,254,254,254,254]\n",
    ",[193,250,249,254,246,254,254,252,254,254,254,254,254,254,254,254]\n",
    ",[21,178,254,252,254,251,253,254,254,254,254,254,254,254,254,254]\n",
    ",[206,19,162,253,254,254,254,254,254,254,254,254,254,254,254,254]\n",
    ",[249,217,31,145,253,251,253,251,254,254,254,254,254,254,254,254]\n",
    ",[254,252,219,38,127,253,254,254,254,254,254,254,254,254,254,254]\n",
    ",[252,252,254,238,43,112,254,254,254,254,254,254,254,254,254,254]\n",
    ",[252,254,251,252,241,57,93,247,254,254,254,254,254,254,254,254]\n",
    ",[254,251,254,253,250,247,72,76,246,250,254,253,252,254,254,253]\n",
    ",[254,254,251,254,254,252,250,89,63,241,250,253,254,249,254,254]\n",
    ",[251,252,254,250,254,253,251,254,100,54,232,254,249,254,249,254]\n",
    ",[254,254,254,254,253,252,254,253,254,127,33,223,254,254,254,254]\n",
    ",[254,251,253,250,254,250,254,254,253,251,144,30,213,254,253,251]\n",
    ",[253,254,253,254,254,254,249,254,253,254,254,159,21,203,251,254]\n",
    ",[254,253,254,249,254,254,254,253,254,249,254,254,178,20,252,254]\n",
    ",[251,252,254,253,253,254,252,254,254,254,252,253,254,194,254,251]])\n",
    ",\n",
    " obao\n",
    "# point_a = (random.randint(0, 16), random.randint(0, 16))\n",
    "# point_b = (random.randint(0, 16), random.randint(0, 16))\n",
    "\n",
    "# drawing = np.zeros((16, 16))\n",
    "# drawing[point_a] = 1\n",
    "# drawing[point_b] = 1\n",
    "\n",
    "a_x, a_y = point_a\n",
    "b_x, b_y = point_b\n",
    "\n",
    "plt.suptitle(abc[a_x] + abc[a_y] + abc[b_x] + abc[b_y])\n",
    "# plt.set(abc)\n",
    "plt.imshow(drawing)"
   ]
  },
  {
   "cell_type": "code",
   "execution_count": null,
   "metadata": {},
   "outputs": [],
   "source": []
  }
 ],
 "metadata": {
  "language_info": {
   "codemirror_mode": {
    "name": "ipython",
    "version": 3
   },
   "file_extension": ".py",
   "mimetype": "text/x-python",
   "name": "python",
   "nbconvert_exporter": "python",
   "pygments_lexer": "ipython3",
   "version": "3.7.7-final"
  },
  "orig_nbformat": 2,
  "kernelspec": {
   "name": "python37764bitvenvvenvaa460c9e5f7342379adccfb6a8521cac",
   "display_name": "Python 3.7.7 64-bit ('venv': venv)"
  }
 },
 "nbformat": 4,
 "nbformat_minor": 2
}